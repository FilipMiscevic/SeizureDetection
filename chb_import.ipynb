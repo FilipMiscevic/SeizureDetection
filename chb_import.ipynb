{
 "cells": [
  {
   "cell_type": "code",
   "execution_count": 1,
   "id": "9df7f1d7",
   "metadata": {},
   "outputs": [],
   "source": [
    "from torch.utils.data import Dataset\n",
    "import pyedflib\n",
    "import numpy as np"
   ]
  },
  {
   "cell_type": "code",
   "execution_count": 2,
   "id": "fc1a97b9",
   "metadata": {},
   "outputs": [],
   "source": [
    "class ChbDataset(Dataset):\n",
    "    def __init__(self, data_dir='./chb-mit-scalp-eeg-database-1.0.0/',seizures_only=True,sample_rate=256):\n",
    "        'Initialization'\n",
    "        self.sample_rate = sample_rate\n",
    "        self.data_dir = data_dir\n",
    "        self.record_type = 'RECORDS-WITH-SEIZURES' if seizures_only else 'RECORDS'\n",
    "                \n",
    "        with open(self.data_dir+self.record_type) as f:\n",
    "            self.records = f.read().strip().splitlines()\n",
    "            \n",
    "        with open(self.data_dir+'RECORDS-WITH-SEIZURES') as f:\n",
    "            self.labelled = f.read().strip().splitlines()\n",
    "            \n",
    "    def __len__(self):\n",
    "        'Denotes the total number of samples'\n",
    "        return len(self.records)\n",
    "        \n",
    "    def __getitem__(self, index):\n",
    "        'Generates one sample of data'\n",
    "        # Select sample\n",
    "        file_name = self.records[index]\n",
    "        \n",
    "        f = pyedflib.EdfReader(self.data_dir+file_name)\n",
    "        n = f.signals_in_file\n",
    "        signal_labels = f.getSignalLabels()\n",
    "        sigbufs = np.zeros((n, f.getNSamples()[0]))\n",
    "        for i in np.arange(n):\n",
    "                sigbufs[i, :] = f.readSignal(i)\n",
    "                \n",
    "        #f = pyedflib.EdfReader(self.data_dir+file_name+'.seizures')\n",
    "        #n = f.signals_in_file\n",
    "        #signal_labels2 = f.getSignalLabels()\n",
    "        #sigbufs2 = np.zeros((n, f.getNSamples()[0]))\n",
    "        #for i in np.arange(n):\n",
    "        #        sigbufs2[i, :] = f.readSignal(i)\n",
    "                \n",
    "        #get labels if seizure\n",
    "        if file_name in self.labelled:\n",
    "            with open(self.data_dir + file_name.split('/')[0] + '/' + file_name.split('/')[0] + '-summary.txt') as g:\n",
    "                lines = g.readlines()\n",
    "                \n",
    "                found = False\n",
    "                i = 0\n",
    "                for line in lines:\n",
    "                    if file_name.split('/')[1] in line:\n",
    "                        found = True\n",
    "                    if found:\n",
    "                        if i == 4:\n",
    "                            self.seizure_start = int(line.split(' ')[3]) # dummy text for testing.\n",
    "                        if i == 5:\n",
    "                            self.seizure_end   = int(line.split(' ')[3]) # TODO: find the fourth line after this one to find seizure start   \n",
    "                            i = 0\n",
    "                            found = False\n",
    "                        i += 1\n",
    "\n",
    "        labels = np.zeros((1, f.getNSamples()[0]))\n",
    "        start  = self.sample_rate * self.seizure_start\n",
    "        end    = self.sample_rate * self.seizure_end\n",
    "                \n",
    "        labels[:,start:end] = 1.0\n",
    "        \n",
    "        return sigbufs, signal_labels, labels #, sigbufs2, signal_labels2\n",
    "        "
   ]
  },
  {
   "cell_type": "code",
   "execution_count": 3,
   "id": "e5627f92",
   "metadata": {},
   "outputs": [],
   "source": [
    "dataset = ChbDataset()\n",
    "item    = dataset.__getitem__(0)"
   ]
  },
  {
   "cell_type": "code",
   "execution_count": 4,
   "id": "d6ab75f2",
   "metadata": {},
   "outputs": [
    {
     "data": {
      "text/plain": [
       "(2996, 3036)"
      ]
     },
     "execution_count": 4,
     "metadata": {},
     "output_type": "execute_result"
    }
   ],
   "source": [
    "dataset.seizure_start, dataset.seizure_end"
   ]
  },
  {
   "cell_type": "code",
   "execution_count": 5,
   "id": "36a60c53",
   "metadata": {},
   "outputs": [
    {
     "data": {
      "text/plain": [
       "array([[0., 0., 0., ..., 0., 0., 0.]])"
      ]
     },
     "execution_count": 5,
     "metadata": {},
     "output_type": "execute_result"
    }
   ],
   "source": [
    "item[2]"
   ]
  },
  {
   "cell_type": "code",
   "execution_count": null,
   "id": "6de067c2",
   "metadata": {},
   "outputs": [],
   "source": [
    "#from matplotlib.collections import LineCollection\n",
    "#import matplotlib.pyplot as plt\n",
    "\n",
    "#plt.plot(np.arange(len(item[2])),item[2])"
   ]
  },
  {
   "cell_type": "code",
   "execution_count": null,
   "id": "4091c2e6",
   "metadata": {},
   "outputs": [],
   "source": []
  },
  {
   "cell_type": "code",
   "execution_count": null,
   "id": "5cb1c5de",
   "metadata": {},
   "outputs": [],
   "source": []
  }
 ],
 "metadata": {
  "kernelspec": {
   "display_name": "Python 3 (ipykernel)",
   "language": "python",
   "name": "python3"
  },
  "language_info": {
   "codemirror_mode": {
    "name": "ipython",
    "version": 3
   },
   "file_extension": ".py",
   "mimetype": "text/x-python",
   "name": "python",
   "nbconvert_exporter": "python",
   "pygments_lexer": "ipython3",
   "version": "3.9.5"
  }
 },
 "nbformat": 4,
 "nbformat_minor": 5
}
