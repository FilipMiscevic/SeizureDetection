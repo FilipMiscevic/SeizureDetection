{
 "cells": [
  {
   "cell_type": "code",
   "execution_count": 1,
   "id": "9df7f1d7",
   "metadata": {},
   "outputs": [],
   "source": [
    "from torch.utils.data import Dataset\n",
    "import pyedflib\n",
    "import numpy as np\n",
    "from scipy.signal import spectrogram, welch\n",
    "from xgboost import XGBClassifier, plot_tree\n",
    "from sklearn import metrics\n",
    "\n",
    "from feature_extraction import extract_frames"
   ]
  },
  {
   "cell_type": "code",
   "execution_count": 10,
   "id": "fc1a97b9",
   "metadata": {},
   "outputs": [],
   "source": [
    "class ChbDataset(Dataset):\n",
    "    def __init__(self, data_dir='./chb-mit-scalp-eeg-database-1.0.0/',seizures_only=True,sample_rate=256):\n",
    "        'Initialization'\n",
    "        self.sample_rate = sample_rate\n",
    "        self.data_dir = data_dir\n",
    "        self.record_type = 'RECORDS-WITH-SEIZURES' if seizures_only else 'RECORDS'\n",
    "                \n",
    "        with open(self.data_dir+self.record_type) as f:\n",
    "            self.records = f.read().strip().splitlines()\n",
    "            f.close()\n",
    "            \n",
    "        with open(self.data_dir+'RECORDS-WITH-SEIZURES') as f:\n",
    "            self.labelled = f.read().strip().splitlines()\n",
    "            f.close()\n",
    "            \n",
    "    def __len__(self):\n",
    "        'Denotes the total number of samples'\n",
    "        return len(self.records)\n",
    "        \n",
    "    def __getitem__(self, index):\n",
    "        'Generates one sample of data'\n",
    "        # Select sample\n",
    "        file_name = self.records[index]\n",
    "        \n",
    "        f = pyedflib.EdfReader(self.data_dir+file_name)\n",
    "        n = f.signals_in_file\n",
    "        signal_labels = f.getSignalLabels()\n",
    "        sigbufs = np.zeros((n, f.getNSamples()[0]))\n",
    "        for i in np.arange(n):\n",
    "                sigbufs[i, :] = f.readSignal(i)\n",
    "                \n",
    "        #get labels if seizure. TODO: deal with multiple seizures\n",
    "        if file_name in self.labelled:\n",
    "            with open(self.data_dir + file_name.split('/')[0] + '/' + file_name.split('/')[0] + '-summary.txt') as g:\n",
    "                lines = g.readlines()\n",
    "                \n",
    "                found = False\n",
    "                i = 0\n",
    "                for line in lines:\n",
    "                    if file_name.split('/')[1] in line:\n",
    "                        found = True\n",
    "                    if found:\n",
    "                        if i == 4:\n",
    "                            self.seizure_start = int(line.split(' ')[3])\n",
    "                        if i == 5:\n",
    "                            self.seizure_end   = int(line.split(' ')[3])   \n",
    "                            i = 0\n",
    "                            found = False\n",
    "                        i += 1\n",
    "                f.close()\n",
    "\n",
    "        labels = np.zeros((1, f.getNSamples()[0]))\n",
    "        start  = self.sample_rate * self.seizure_start\n",
    "        end    = self.sample_rate * self.seizure_end\n",
    "                \n",
    "        labels[:,start:end] = 1.0\n",
    "        \n",
    "        s       = 2 #window in seconds\n",
    "        #print(sigbufs.shape,-sigbufs.shape[1]%(s*self.sample_rate))\n",
    "        sigbufs = np.concatenate((sigbufs,np.zeros((sigbufs.shape[0],-sigbufs.shape[1]%(s*self.sample_rate)))),axis=1)\n",
    "        labels = np.concatenate((labels,np.zeros((labels.shape[0],-labels.shape[1]%(s*self.sample_rate)))),axis=1)\n",
    "        #print(sigbufs.shape)\n",
    "        \n",
    "        split   = np.array_split(sigbufs,sigbufs.shape[1]/(s*self.sample_rate),axis=1)\n",
    "        labels  = [np.any(ss) for ss in np.array_split(labels[0],sigbufs.shape[1]/(s*self.sample_rate))]\n",
    "\n",
    "        all_X = []\n",
    "        # calculate the Welch spectrum for each window\n",
    "        for p_secs in split:\n",
    "            p_f, p_Sxx = welch(p_secs, fs=self.sample_rate, axis=1)\n",
    "            p_SS = np.log1p(p_Sxx)\n",
    "            arr = p_SS[:] / np.max(p_SS)\n",
    "            all_X.append(arr)\n",
    "        \n",
    "        x = np.array(all_X)\n",
    "        x = x.reshape((x.shape[0],x.shape[1]*x.shape[2]))\n",
    "        \n",
    "        return x,np.array(labels)"
   ]
  },
  {
   "cell_type": "code",
   "execution_count": 11,
   "id": "50152f7c",
   "metadata": {},
   "outputs": [],
   "source": [
    "dataset = ChbDataset()\n",
    "\n",
    "train = dataset.__getitem__(0)\n",
    "test = dataset.__getitem__(1)\n",
    "\n",
    "x = np.array(train[0])\n",
    "labels = train[1]"
   ]
  },
  {
   "cell_type": "code",
   "execution_count": null,
   "id": "f4c891e8",
   "metadata": {},
   "outputs": [
    {
     "name": "stdout",
     "output_type": "stream",
     "text": [
      "1.0\n",
      "0.9816666666666667\n",
      "0.9861111111111112\n",
      "0.9938888888888889\n",
      "0.9744444444444444\n",
      "0.9666666666666667\n",
      "0.9492691315563199\n",
      "0.9104166666666667\n",
      "0.945\n",
      "0.8027777777777778\n",
      "0.9594444444444444\n",
      "0.93\n"
     ]
    }
   ],
   "source": [
    "model = XGBClassifier(objective='binary:hinge', learning_rate = 0.1,\n",
    "              max_depth = 1, n_estimators = 330)\n",
    "\n",
    "model.fit(train[0], train[1])\n",
    "\n",
    "for test in ChbDataset():\n",
    "    preds = model.predict(test[0])\n",
    "    print(sum(preds==test[1])/len(test[1]))"
   ]
  },
  {
   "cell_type": "code",
   "execution_count": null,
   "id": "97c51bf4",
   "metadata": {},
   "outputs": [],
   "source": []
  }
 ],
 "metadata": {
  "kernelspec": {
   "display_name": "Python 3 (ipykernel)",
   "language": "python",
   "name": "python3"
  },
  "language_info": {
   "codemirror_mode": {
    "name": "ipython",
    "version": 3
   },
   "file_extension": ".py",
   "mimetype": "text/x-python",
   "name": "python",
   "nbconvert_exporter": "python",
   "pygments_lexer": "ipython3",
   "version": "3.9.5"
  }
 },
 "nbformat": 4,
 "nbformat_minor": 5
}
