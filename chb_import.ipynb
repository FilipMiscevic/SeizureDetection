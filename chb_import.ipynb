{
 "cells": [
  {
   "cell_type": "code",
   "execution_count": 110,
   "id": "9df7f1d7",
   "metadata": {},
   "outputs": [],
   "source": [
    "from torch.utils.data import Dataset\n",
    "import pyedflib\n",
    "import numpy as np\n",
    "from scipy.signal import spectrogram, welch\n",
    "from xgboost import XGBClassifier, plot_tree\n"
   ]
  },
  {
   "cell_type": "code",
   "execution_count": 115,
   "id": "fc1a97b9",
   "metadata": {},
   "outputs": [],
   "source": [
    "class ChbDataset(Dataset):\n",
    "    def __init__(self, data_dir='./chb-mit-scalp-eeg-database-1.0.0/',seizures_only=True,sample_rate=256):\n",
    "        'Initialization'\n",
    "        self.sample_rate = sample_rate\n",
    "        self.data_dir = data_dir\n",
    "        self.record_type = 'RECORDS-WITH-SEIZURES' if seizures_only else 'RECORDS'\n",
    "                \n",
    "        with open(self.data_dir+self.record_type) as f:\n",
    "            self.records = f.read().strip().splitlines()\n",
    "            \n",
    "        with open(self.data_dir+'RECORDS-WITH-SEIZURES') as f:\n",
    "            self.labelled = f.read().strip().splitlines()\n",
    "            \n",
    "    def __len__(self):\n",
    "        'Denotes the total number of samples'\n",
    "        return len(self.records)\n",
    "        \n",
    "    def __getitem__(self, index):\n",
    "        'Generates one sample of data'\n",
    "        # Select sample\n",
    "        file_name = self.records[index]\n",
    "        \n",
    "        f = pyedflib.EdfReader(self.data_dir+file_name)\n",
    "        n = f.signals_in_file\n",
    "        signal_labels = f.getSignalLabels()\n",
    "        sigbufs = np.zeros((n, f.getNSamples()[0]))\n",
    "        for i in np.arange(n):\n",
    "                sigbufs[i, :] = f.readSignal(i)\n",
    "                \n",
    "        #get labels if seizure. TODO: deal with multiple seizures\n",
    "        if file_name in self.labelled:\n",
    "            with open(self.data_dir + file_name.split('/')[0] + '/' + file_name.split('/')[0] + '-summary.txt') as g:\n",
    "                lines = g.readlines()\n",
    "                \n",
    "                found = False\n",
    "                i = 0\n",
    "                for line in lines:\n",
    "                    if file_name.split('/')[1] in line:\n",
    "                        found = True\n",
    "                    if found:\n",
    "                        if i == 4:\n",
    "                            self.seizure_start = int(line.split(' ')[3])\n",
    "                        if i == 5:\n",
    "                            self.seizure_end   = int(line.split(' ')[3])   \n",
    "                            i = 0\n",
    "                            found = False\n",
    "                        i += 1\n",
    "\n",
    "        labels = np.zeros((1, f.getNSamples()[0]))\n",
    "        start  = self.sample_rate * self.seizure_start\n",
    "        end    = self.sample_rate * self.seizure_end\n",
    "                \n",
    "        labels[:,start:end] = 1.0\n",
    "        \n",
    "        s     = 2 #window in seconds\n",
    "        split = np.split(sigbufs,s*dataset.sample_rate,axis=1)\n",
    "        labels= [np.any(ss) for ss in np.split(labels[0],s*dataset.sample_rate)]\n",
    "\n",
    "        all_X = []\n",
    "        # calculate the Welch spectrum for each window\n",
    "        for p_secs in split:\n",
    "            p_f, p_Sxx = welch(p_secs, fs=dataset.sample_rate, axis=1)\n",
    "            p_SS = np.log1p(p_Sxx)\n",
    "            arr = p_SS[:] / np.max(p_SS)\n",
    "            all_X.append(arr)\n",
    "        \n",
    "        x = np.array(all_X)\n",
    "        x = x.reshape((x.shape[0],x.shape[1]*x.shape[2]))\n",
    "        \n",
    "        return x,np.array(labels)"
   ]
  },
  {
   "cell_type": "code",
   "execution_count": 122,
   "id": "186dd4a8",
   "metadata": {},
   "outputs": [],
   "source": [
    "dataset = ChbDataset()\n",
    "\n",
    "train = dataset.__getitem__(0)\n",
    "test = dataset.__getitem__(1)\n",
    "\n",
    "x = np.array(train[0])\n",
    "labels = train[1]"
   ]
  },
  {
   "cell_type": "code",
   "execution_count": 125,
   "id": "16b7d6c5",
   "metadata": {},
   "outputs": [],
   "source": [
    "x = x.reshape((x.shape[0],x.shape[1]*x.shape[2]))"
   ]
  },
  {
   "cell_type": "code",
   "execution_count": 127,
   "id": "09287625",
   "metadata": {},
   "outputs": [
    {
     "data": {
      "text/plain": [
       "XGBClassifier(base_score=0.5, booster='gbtree', colsample_bylevel=1,\n",
       "              colsample_bynode=1, colsample_bytree=1, gamma=0, gpu_id=-1,\n",
       "              importance_type='gain', interaction_constraints='',\n",
       "              learning_rate=0.1, max_delta_step=0, max_depth=1,\n",
       "              min_child_weight=1, missing=nan, monotone_constraints='()',\n",
       "              n_estimators=330, n_jobs=8, num_parallel_tree=1,\n",
       "              objective='binary:hinge', random_state=0, reg_alpha=0,\n",
       "              reg_lambda=1, scale_pos_weight=None, subsample=1,\n",
       "              tree_method='exact', validate_parameters=1, verbosity=None)"
      ]
     },
     "execution_count": 127,
     "metadata": {},
     "output_type": "execute_result"
    }
   ],
   "source": [
    "model = XGBClassifier(objective='binary:hinge', learning_rate = 0.1,\n",
    "              max_depth = 1, n_estimators = 330)\n",
    "\n",
    "model.fit(x, train[1])\n",
    "preds = model.predict(test[0])\n",
    "print(sum(preds==test[1])/len(test[1]))"
   ]
  },
  {
   "cell_type": "code",
   "execution_count": null,
   "id": "b319a3d8",
   "metadata": {},
   "outputs": [],
   "source": []
  }
 ],
 "metadata": {
  "kernelspec": {
   "display_name": "Python 3 (ipykernel)",
   "language": "python",
   "name": "python3"
  },
  "language_info": {
   "codemirror_mode": {
    "name": "ipython",
    "version": 3
   },
   "file_extension": ".py",
   "mimetype": "text/x-python",
   "name": "python",
   "nbconvert_exporter": "python",
   "pygments_lexer": "ipython3",
   "version": "3.9.5"
  }
 },
 "nbformat": 4,
 "nbformat_minor": 5
}
