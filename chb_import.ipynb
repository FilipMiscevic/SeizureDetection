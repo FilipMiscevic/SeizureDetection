{
 "cells": [
  {
   "cell_type": "code",
   "execution_count": 1,
   "id": "9df7f1d7",
   "metadata": {},
   "outputs": [],
   "source": [
    "from torch.utils.data import Dataset\n",
    "import pyedflib\n",
    "import numpy as np\n",
    "from scipy.signal import spectrogram, welch\n",
    "from xgboost import XGBClassifier, plot_tree\n",
    "from sklearn import metrics\n",
    "\n",
    "from feature_extraction import extract_frames"
   ]
  },
  {
   "cell_type": "code",
   "execution_count": 60,
   "id": "fc1a97b9",
   "metadata": {},
   "outputs": [],
   "source": [
    "class ChbDataset(Dataset):\n",
    "    def __init__(self, data_dir='./chb-mit-scalp-eeg-database-1.0.0/',seizures_only=True,sample_rate=256,subject='chb01',mode='train'):\n",
    "        'Initialization'\n",
    "        self.sample_rate = sample_rate\n",
    "        self.data_dir = data_dir\n",
    "        self.record_type = 'RECORDS-WITH-SEIZURES' if seizures_only else 'RECORDS'\n",
    "                \n",
    "        with open(self.data_dir+self.record_type) as f:\n",
    "            self.records = f.read().strip().splitlines()\n",
    "            f.close()\n",
    "            \n",
    "        with open(self.data_dir+'RECORDS-WITH-SEIZURES') as f:\n",
    "            self.labelled = f.read().strip().splitlines()\n",
    "            f.close()\n",
    "            \n",
    "        #filter based on subject\n",
    "        self.records = [record for record in self.records if subject in record]\n",
    "        \n",
    "        if mode == 'train':\n",
    "            self.records = self.records[:int(4*len(self.records)/5)]\n",
    "        elif mode == 'test':\n",
    "            self.records = self.records[int(4*len(self.records)/5):]\n",
    "            \n",
    "    def __len__(self):\n",
    "        'Denotes the total number of samples'\n",
    "        return len(self.records)\n",
    "        \n",
    "    def __getitem__(self, index):\n",
    "        'Generates one sample of data'\n",
    "        # Select sample\n",
    "        file_name = self.records[index]\n",
    "        \n",
    "        f = pyedflib.EdfReader(self.data_dir+file_name)\n",
    "        n = f.signals_in_file\n",
    "        signal_labels = f.getSignalLabels()\n",
    "        sigbufs = np.zeros((n, f.getNSamples()[0]))\n",
    "        for i in np.arange(n):\n",
    "                sigbufs[i, :] = f.readSignal(i)\n",
    "                \n",
    "        labels = np.zeros((1, f.getNSamples()[0]))\n",
    "        \n",
    "       #get labels if seizure. TODO: deal with multiple seizures\n",
    "        if file_name in self.labelled:\n",
    "            with open(self.data_dir + file_name.split('/')[0] + '/' + file_name.split('/')[0] + '-summary.txt') as g:\n",
    "                lines = g.readlines()\n",
    "                \n",
    "                found = False\n",
    "                i = 0\n",
    "                for line in lines:\n",
    "                    if file_name.split('/')[1] in line:\n",
    "                        found = True\n",
    "                    if found:\n",
    "                        if i == 4:\n",
    "                            self.seizure_start = int(line.split(' ')[3])\n",
    "                        if i == 5:\n",
    "                            self.seizure_end   = int(line.split(' ')[3])   \n",
    "                            i = 0\n",
    "                            found  = False        \n",
    "                            start  = self.sample_rate * self.seizure_start\n",
    "                            end    = self.sample_rate * self.seizure_end\n",
    "                            labels[:,start:end] = 1.0\n",
    "                        i += 1\n",
    "                f.close()\n",
    "        \n",
    "        s       = 2 #window in seconds\n",
    "        #print(sigbufs.shape,-sigbufs.shape[1]%(s*self.sample_rate))\n",
    "        sigbufs = np.concatenate((sigbufs,np.zeros((sigbufs.shape[0],-sigbufs.shape[1]%(s*self.sample_rate)))),axis=1)\n",
    "        labels = np.concatenate((labels,np.zeros((labels.shape[0],-labels.shape[1]%(s*self.sample_rate)))),axis=1)\n",
    "        #print(sigbufs.shape)\n",
    "        \n",
    "        split   = np.array_split(sigbufs,sigbufs.shape[1]/(s*self.sample_rate),axis=1)\n",
    "        labels  = [np.any(ss) for ss in np.array_split(labels[0],sigbufs.shape[1]/(s*self.sample_rate))]\n",
    "\n",
    "        all_X = []\n",
    "        # calculate the Welch spectrum for each window\n",
    "        for p_secs in split:\n",
    "            p_f, p_Sxx = welch(p_secs, fs=self.sample_rate, axis=1)\n",
    "            p_SS = np.log1p(p_Sxx)\n",
    "            arr = p_SS[:] / np.max(p_SS)\n",
    "            all_X.append(arr)\n",
    "        \n",
    "        x = np.array(all_X)\n",
    "        x = x.reshape((x.shape[0],x.shape[1]*x.shape[2]))\n",
    "        \n",
    "        return x,np.array(labels)\n",
    "    \n",
    "    def all_data(self):\n",
    "        data = [self.__getitem__(i) for i in range(len(self.records))]\n",
    "        allX = [x[0] for x in data]\n",
    "        allY = [x[1] for x in data]\n",
    "        return np.concatenate(np.array(allX)),np.concatenate(np.array(allY))"
   ]
  },
  {
   "cell_type": "code",
   "execution_count": 65,
   "id": "41f2aad7",
   "metadata": {},
   "outputs": [],
   "source": [
    "train_dataset = ChbDataset(mode='train')\n",
    "test_dataset  = ChbDataset(mode='test')\n",
    "all_dataset   = ChbDataset(mode='all')"
   ]
  },
  {
   "cell_type": "code",
   "execution_count": 68,
   "id": "a8fb1260",
   "metadata": {},
   "outputs": [],
   "source": [
    "assert len(train_dataset.records)+len(test_dataset.records)==len(all_dataset.records)"
   ]
  },
  {
   "cell_type": "code",
   "execution_count": null,
   "id": "d63e1aa5",
   "metadata": {},
   "outputs": [],
   "source": [
    "allX,allY = train_dataset.all_data()"
   ]
  },
  {
   "cell_type": "code",
   "execution_count": 69,
   "id": "505a0c53",
   "metadata": {},
   "outputs": [
    {
     "name": "stdout",
     "output_type": "stream",
     "text": [
      "0.9933333333333333\n",
      "0.7979363714531384\n"
     ]
    }
   ],
   "source": [
    "model = XGBClassifier(objective='binary:hinge', learning_rate = 0.1,\n",
    "              max_depth = 1, n_estimators = 330)\n",
    "\n",
    "model.fit(allX, allY)\n",
    "\n",
    "for test in test_dataset:\n",
    "    preds = model.predict(test[0])\n",
    "    print(sum(preds==test[1])/len(test[1]))"
   ]
  },
  {
   "cell_type": "code",
   "execution_count": null,
   "id": "80f1cea9",
   "metadata": {},
   "outputs": [],
   "source": []
  }
 ],
 "metadata": {
  "jupytext": {
   "formats": "ipynb,auto:light"
  },
  "kernelspec": {
   "display_name": "Python 3 (ipykernel)",
   "language": "python",
   "name": "python3"
  },
  "language_info": {
   "codemirror_mode": {
    "name": "ipython",
    "version": 3
   },
   "file_extension": ".py",
   "mimetype": "text/x-python",
   "name": "python",
   "nbconvert_exporter": "python",
   "pygments_lexer": "ipython3",
   "version": "3.9.5"
  }
 },
 "nbformat": 4,
 "nbformat_minor": 5
}
