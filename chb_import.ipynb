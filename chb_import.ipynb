{
 "cells": [
  {
   "cell_type": "code",
   "execution_count": 1,
   "id": "9df7f1d7",
   "metadata": {},
   "outputs": [],
   "source": [
    "from torch.utils.data import Dataset\n",
    "import pyedflib\n",
    "import numpy as np\n",
    "from scipy.signal import spectrogram, welch\n",
    "from xgboost import XGBClassifier, plot_tree\n",
    "from sklearn import metrics\n",
    "\n",
    "from feature_extraction import extract_frames"
   ]
  },
  {
   "cell_type": "code",
   "execution_count": 2,
   "id": "fc1a97b9",
   "metadata": {},
   "outputs": [],
   "source": [
    "class ChbDataset(Dataset):\n",
    "    def __init__(self, data_dir='./chb-mit-scalp-eeg-database-1.0.0/',seizures_only=True,sample_rate=256):\n",
    "        'Initialization'\n",
    "        self.sample_rate = sample_rate\n",
    "        self.data_dir = data_dir\n",
    "        self.record_type = 'RECORDS-WITH-SEIZURES' if seizures_only else 'RECORDS'\n",
    "                \n",
    "        with open(self.data_dir+self.record_type) as f:\n",
    "            self.records = f.read().strip().splitlines()\n",
    "            f.close()\n",
    "            \n",
    "        with open(self.data_dir+'RECORDS-WITH-SEIZURES') as f:\n",
    "            self.labelled = f.read().strip().splitlines()\n",
    "            f.close()\n",
    "            \n",
    "    def __len__(self):\n",
    "        'Denotes the total number of samples'\n",
    "        return len(self.records)\n",
    "        \n",
    "    def __getitem__(self, index):\n",
    "        'Generates one sample of data'\n",
    "        # Select sample\n",
    "        file_name = self.records[index]\n",
    "        \n",
    "        f = pyedflib.EdfReader(self.data_dir+file_name)\n",
    "        n = f.signals_in_file\n",
    "        signal_labels = f.getSignalLabels()\n",
    "        sigbufs = np.zeros((n, f.getNSamples()[0]))\n",
    "        for i in np.arange(n):\n",
    "                sigbufs[i, :] = f.readSignal(i)\n",
    "                \n",
    "        #get labels if seizure. TODO: deal with multiple seizures\n",
    "        if file_name in self.labelled:\n",
    "            with open(self.data_dir + file_name.split('/')[0] + '/' + file_name.split('/')[0] + '-summary.txt') as g:\n",
    "                lines = g.readlines()\n",
    "                \n",
    "                found = False\n",
    "                i = 0\n",
    "                for line in lines:\n",
    "                    if file_name.split('/')[1] in line:\n",
    "                        found = True\n",
    "                    if found:\n",
    "                        if i == 4:\n",
    "                            self.seizure_start = int(line.split(' ')[3])\n",
    "                        if i == 5:\n",
    "                            self.seizure_end   = int(line.split(' ')[3])   \n",
    "                            i = 0\n",
    "                            found = False\n",
    "                        i += 1\n",
    "                f.close()\n",
    "\n",
    "        labels = np.zeros((1, f.getNSamples()[0]))\n",
    "        start  = self.sample_rate * self.seizure_start\n",
    "        end    = self.sample_rate * self.seizure_end\n",
    "                \n",
    "        labels[:,start:end] = 1.0\n",
    "        \n",
    "        s       = 2 #window in seconds\n",
    "        #print(sigbufs.shape)\n",
    "        #sigbufs = np.concatenate((sigbufs,np.zeros((sigbufs.shape[0],len(sigbufs)%(s*self.sample_rate)))))\n",
    "        split   = np.array_split(sigbufs,s*self.sample_rate,axis=1)\n",
    "        labels  = [np.any(ss) for ss in np.split(labels[0],s*self.sample_rate)]\n",
    "\n",
    "        all_X = []\n",
    "        # calculate the Welch spectrum for each window\n",
    "        for p_secs in split:\n",
    "            p_f, p_Sxx = welch(p_secs, fs=self.sample_rate, axis=1)\n",
    "            p_SS = np.log1p(p_Sxx)\n",
    "            arr = p_SS[:] / np.max(p_SS)\n",
    "            all_X.append(arr)\n",
    "        \n",
    "        x = np.array(all_X)\n",
    "        x = x.reshape((x.shape[0],x.shape[1]*x.shape[2]))\n",
    "        \n",
    "        return x,np.array(labels)"
   ]
  },
  {
   "cell_type": "code",
   "execution_count": 3,
   "id": "2b740676",
   "metadata": {},
   "outputs": [],
   "source": [
    "dataset = ChbDataset()\n",
    "\n",
    "train = dataset.__getitem__(0)\n",
    "test = dataset.__getitem__(1)\n",
    "\n",
    "x = np.array(train[0])\n",
    "labels = train[1]"
   ]
  },
  {
   "cell_type": "code",
   "execution_count": 6,
   "id": "5ff90c58",
   "metadata": {},
   "outputs": [
    {
     "name": "stdout",
     "output_type": "stream",
     "text": [
      "1.0\n",
      "0.984375\n",
      "0.984375\n",
      "0.98828125\n",
      "0.962890625\n",
      "0.9609375\n"
     ]
    },
    {
     "ename": "ValueError",
     "evalue": "array split does not result in an equal division",
     "output_type": "error",
     "traceback": [
      "\u001b[1;31m---------------------------------------------------------------------------\u001b[0m",
      "\u001b[1;31mValueError\u001b[0m                                Traceback (most recent call last)",
      "\u001b[1;32m~\\AppData\\Local\\Temp/ipykernel_1444/2108039691.py\u001b[0m in \u001b[0;36m<module>\u001b[1;34m\u001b[0m\n\u001b[0;32m      4\u001b[0m \u001b[0mmodel\u001b[0m\u001b[1;33m.\u001b[0m\u001b[0mfit\u001b[0m\u001b[1;33m(\u001b[0m\u001b[0mtrain\u001b[0m\u001b[1;33m[\u001b[0m\u001b[1;36m0\u001b[0m\u001b[1;33m]\u001b[0m\u001b[1;33m,\u001b[0m \u001b[0mtrain\u001b[0m\u001b[1;33m[\u001b[0m\u001b[1;36m1\u001b[0m\u001b[1;33m]\u001b[0m\u001b[1;33m)\u001b[0m\u001b[1;33m\u001b[0m\u001b[1;33m\u001b[0m\u001b[0m\n\u001b[0;32m      5\u001b[0m \u001b[1;33m\u001b[0m\u001b[0m\n\u001b[1;32m----> 6\u001b[1;33m \u001b[1;32mfor\u001b[0m \u001b[0mtest\u001b[0m \u001b[1;32min\u001b[0m \u001b[0mChbDataset\u001b[0m\u001b[1;33m(\u001b[0m\u001b[1;33m)\u001b[0m\u001b[1;33m:\u001b[0m\u001b[1;33m\u001b[0m\u001b[1;33m\u001b[0m\u001b[0m\n\u001b[0m\u001b[0;32m      7\u001b[0m     \u001b[0mpreds\u001b[0m \u001b[1;33m=\u001b[0m \u001b[0mmodel\u001b[0m\u001b[1;33m.\u001b[0m\u001b[0mpredict\u001b[0m\u001b[1;33m(\u001b[0m\u001b[0mtest\u001b[0m\u001b[1;33m[\u001b[0m\u001b[1;36m0\u001b[0m\u001b[1;33m]\u001b[0m\u001b[1;33m)\u001b[0m\u001b[1;33m\u001b[0m\u001b[1;33m\u001b[0m\u001b[0m\n\u001b[0;32m      8\u001b[0m     \u001b[0mprint\u001b[0m\u001b[1;33m(\u001b[0m\u001b[0msum\u001b[0m\u001b[1;33m(\u001b[0m\u001b[0mpreds\u001b[0m\u001b[1;33m==\u001b[0m\u001b[0mtest\u001b[0m\u001b[1;33m[\u001b[0m\u001b[1;36m1\u001b[0m\u001b[1;33m]\u001b[0m\u001b[1;33m)\u001b[0m\u001b[1;33m/\u001b[0m\u001b[0mlen\u001b[0m\u001b[1;33m(\u001b[0m\u001b[0mtest\u001b[0m\u001b[1;33m[\u001b[0m\u001b[1;36m1\u001b[0m\u001b[1;33m]\u001b[0m\u001b[1;33m)\u001b[0m\u001b[1;33m)\u001b[0m\u001b[1;33m\u001b[0m\u001b[1;33m\u001b[0m\u001b[0m\n",
      "\u001b[1;32m~\\AppData\\Local\\Temp/ipykernel_1444/2193525199.py\u001b[0m in \u001b[0;36m__getitem__\u001b[1;34m(self, index)\u001b[0m\n\u001b[0;32m     60\u001b[0m         \u001b[1;31m#sigbufs = np.concatenate((sigbufs,np.zeros((sigbufs.shape[0],len(sigbufs)%(s*self.sample_rate)))))\u001b[0m\u001b[1;33m\u001b[0m\u001b[1;33m\u001b[0m\u001b[1;33m\u001b[0m\u001b[0m\n\u001b[0;32m     61\u001b[0m         \u001b[0msplit\u001b[0m   \u001b[1;33m=\u001b[0m \u001b[0mnp\u001b[0m\u001b[1;33m.\u001b[0m\u001b[0marray_split\u001b[0m\u001b[1;33m(\u001b[0m\u001b[0msigbufs\u001b[0m\u001b[1;33m,\u001b[0m\u001b[0ms\u001b[0m\u001b[1;33m*\u001b[0m\u001b[0mself\u001b[0m\u001b[1;33m.\u001b[0m\u001b[0msample_rate\u001b[0m\u001b[1;33m,\u001b[0m\u001b[0maxis\u001b[0m\u001b[1;33m=\u001b[0m\u001b[1;36m1\u001b[0m\u001b[1;33m)\u001b[0m\u001b[1;33m\u001b[0m\u001b[1;33m\u001b[0m\u001b[0m\n\u001b[1;32m---> 62\u001b[1;33m         \u001b[0mlabels\u001b[0m  \u001b[1;33m=\u001b[0m \u001b[1;33m[\u001b[0m\u001b[0mnp\u001b[0m\u001b[1;33m.\u001b[0m\u001b[0many\u001b[0m\u001b[1;33m(\u001b[0m\u001b[0mss\u001b[0m\u001b[1;33m)\u001b[0m \u001b[1;32mfor\u001b[0m \u001b[0mss\u001b[0m \u001b[1;32min\u001b[0m \u001b[0mnp\u001b[0m\u001b[1;33m.\u001b[0m\u001b[0msplit\u001b[0m\u001b[1;33m(\u001b[0m\u001b[0mlabels\u001b[0m\u001b[1;33m[\u001b[0m\u001b[1;36m0\u001b[0m\u001b[1;33m]\u001b[0m\u001b[1;33m,\u001b[0m\u001b[0ms\u001b[0m\u001b[1;33m*\u001b[0m\u001b[0mself\u001b[0m\u001b[1;33m.\u001b[0m\u001b[0msample_rate\u001b[0m\u001b[1;33m)\u001b[0m\u001b[1;33m]\u001b[0m\u001b[1;33m\u001b[0m\u001b[1;33m\u001b[0m\u001b[0m\n\u001b[0m\u001b[0;32m     63\u001b[0m \u001b[1;33m\u001b[0m\u001b[0m\n\u001b[0;32m     64\u001b[0m         \u001b[0mall_X\u001b[0m \u001b[1;33m=\u001b[0m \u001b[1;33m[\u001b[0m\u001b[1;33m]\u001b[0m\u001b[1;33m\u001b[0m\u001b[1;33m\u001b[0m\u001b[0m\n",
      "\u001b[1;32m<__array_function__ internals>\u001b[0m in \u001b[0;36msplit\u001b[1;34m(*args, **kwargs)\u001b[0m\n",
      "\u001b[1;32mc:\\python39\\lib\\site-packages\\numpy\\lib\\shape_base.py\u001b[0m in \u001b[0;36msplit\u001b[1;34m(ary, indices_or_sections, axis)\u001b[0m\n\u001b[0;32m    870\u001b[0m         \u001b[0mN\u001b[0m \u001b[1;33m=\u001b[0m \u001b[0mary\u001b[0m\u001b[1;33m.\u001b[0m\u001b[0mshape\u001b[0m\u001b[1;33m[\u001b[0m\u001b[0maxis\u001b[0m\u001b[1;33m]\u001b[0m\u001b[1;33m\u001b[0m\u001b[1;33m\u001b[0m\u001b[0m\n\u001b[0;32m    871\u001b[0m         \u001b[1;32mif\u001b[0m \u001b[0mN\u001b[0m \u001b[1;33m%\u001b[0m \u001b[0msections\u001b[0m\u001b[1;33m:\u001b[0m\u001b[1;33m\u001b[0m\u001b[1;33m\u001b[0m\u001b[0m\n\u001b[1;32m--> 872\u001b[1;33m             raise ValueError(\n\u001b[0m\u001b[0;32m    873\u001b[0m                 'array split does not result in an equal division') from None\n\u001b[0;32m    874\u001b[0m     \u001b[1;32mreturn\u001b[0m \u001b[0marray_split\u001b[0m\u001b[1;33m(\u001b[0m\u001b[0mary\u001b[0m\u001b[1;33m,\u001b[0m \u001b[0mindices_or_sections\u001b[0m\u001b[1;33m,\u001b[0m \u001b[0maxis\u001b[0m\u001b[1;33m)\u001b[0m\u001b[1;33m\u001b[0m\u001b[1;33m\u001b[0m\u001b[0m\n",
      "\u001b[1;31mValueError\u001b[0m: array split does not result in an equal division"
     ]
    }
   ],
   "source": [
    "model = XGBClassifier(objective='binary:hinge', learning_rate = 0.1,\n",
    "              max_depth = 1, n_estimators = 330)\n",
    "\n",
    "model.fit(train[0], train[1])\n",
    "\n",
    "for test in ChbDataset():\n",
    "    preds = model.predict(test[0])\n",
    "    print(sum(preds==test[1])/len(test[1]))"
   ]
  },
  {
   "cell_type": "code",
   "execution_count": null,
   "id": "6a1548ac",
   "metadata": {},
   "outputs": [],
   "source": []
  }
 ],
 "metadata": {
  "kernelspec": {
   "display_name": "Python 3 (ipykernel)",
   "language": "python",
   "name": "python3"
  },
  "language_info": {
   "codemirror_mode": {
    "name": "ipython",
    "version": 3
   },
   "file_extension": ".py",
   "mimetype": "text/x-python",
   "name": "python",
   "nbconvert_exporter": "python",
   "pygments_lexer": "ipython3",
   "version": "3.9.5"
  }
 },
 "nbformat": 4,
 "nbformat_minor": 5
}
